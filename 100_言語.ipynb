{
  "nbformat": 4,
  "nbformat_minor": 0,
  "metadata": {
    "colab": {
      "name": "Untitled19.ipynb",
      "provenance": [],
      "authorship_tag": "ABX9TyO6SpvzG14lAIjABCxtbzFF",
      "include_colab_link": true
    },
    "kernelspec": {
      "name": "python3",
      "display_name": "Python 3"
    }
  },
  "cells": [
    {
      "cell_type": "markdown",
      "metadata": {
        "id": "view-in-github",
        "colab_type": "text"
      },
      "source": [
        "<a href=\"https://colab.research.google.com/github/akipi-ro/daily_study/blob/master/100_%E8%A8%80%E8%AA%9E.ipynb\" target=\"_parent\"><img src=\"https://colab.research.google.com/assets/colab-badge.svg\" alt=\"Open In Colab\"/></a>"
      ]
    },
    {
      "cell_type": "code",
      "metadata": {
        "id": "emMeuCLxdls7",
        "colab_type": "code",
        "colab": {}
      },
      "source": [
        "#1\n",
        "org_str = 'stressed'\n",
        "\n",
        "new_str = org_str[::-1]\n",
        "print(new_str)"
      ],
      "execution_count": null,
      "outputs": []
    },
    {
      "cell_type": "code",
      "metadata": {
        "id": "WtE6QPefdv-g",
        "colab_type": "code",
        "colab": {
          "base_uri": "https://localhost:8080/",
          "height": 33
        },
        "outputId": "208e8bb5-d7a4-4002-9fc3-c39e9988bcc5"
      },
      "source": [
        "#2\n",
        "s=\"パタトクカシーー\"\n",
        "\n",
        "# print(s[1:4:2])\n",
        "# タク\n",
        "\n",
        "# print(s[::2])\n",
        "# パトカー\n",
        "\n",
        "# print(s[::3])\n",
        "# パクー\n",
        "\n",
        "# print(s[::-1])\n",
        "# # ーーシカクトタパ\n",
        "\n",
        "print(s[::-2])\n",
        "#ーシクタ"
      ],
      "execution_count": null,
      "outputs": [
        {
          "output_type": "stream",
          "text": [
            "ーシクタ\n"
          ],
          "name": "stdout"
        }
      ]
    },
    {
      "cell_type": "code",
      "metadata": {
        "id": "04PqHizvfKOt",
        "colab_type": "code",
        "colab": {
          "base_uri": "https://localhost:8080/",
          "height": 33
        },
        "outputId": "09892304-07ab-4ffd-e1f5-2e7bc06b3eb9"
      },
      "source": [
        "#3\n",
        "\n",
        "str1 = \"パトカー\"\n",
        "str2 = \"タクシー\"\n",
        "str3 = (str1 + str2)[0::4]\n",
        "str4 = (str1 + str2)[1::4]\n",
        "str5 = (str1 + str2)[2::4]\n",
        "str6 = (str1 + str2)[3::4]\n",
        "\n",
        "str3 + str4 + str5 + str6\n",
        "str３\n",
        "\n",
        "##################\n",
        "\n",
        "# str1 = \"パトカー\"\n",
        "# str2 = \"タクシー\"\n",
        "# str3 = \"\"\n",
        "# for i in range(0,4):\n",
        "#       str = (str1 + str2)[i::4]\n",
        "#       str3 += str\n",
        "# str3\n",
        "#######################\n",
        "\n",
        "s = \"\".join(i+j for i, j in zip(\"パトカー\", \"タクシー\"))\n",
        "print(s)"
      ],
      "execution_count": null,
      "outputs": [
        {
          "output_type": "stream",
          "text": [
            "パタトクカシーー\n"
          ],
          "name": "stdout"
        }
      ]
    },
    {
      "cell_type": "markdown",
      "metadata": {
        "id": "uKOQibBYINcf",
        "colab_type": "text"
      },
      "source": [
        "“Now I need a drink, alcoholic of course, after the heavy lectures involving quantum mechanics.”という文を単語に分解し，各単語の（アルファベットの）文字数を先頭から出現順に並べたリストを作成せよ．"
      ]
    },
    {
      "cell_type": "code",
      "metadata": {
        "id": "KOLryPQchEF_",
        "colab_type": "code",
        "colab": {}
      },
      "source": [
        ""
      ],
      "execution_count": null,
      "outputs": []
    },
    {
      "cell_type": "markdown",
      "metadata": {
        "id": "THjV4TUZBd02",
        "colab_type": "text"
      },
      "source": [
        "04. 元素記号Permalink\n",
        "\n",
        "*  “Hi He Lied Because Boron Could Not Oxidize Fluorine. New Nations Might Also Sign Peace Security Clause. Arthur King Can.”という文を単語に分解し，1, 5, 6, 7, 8, 9, 15, 16, 19番目の単語は先頭の1文字，それ以外の単語は先頭の2文字を取り出し，取り出した文字列から単語の位置（先頭から何番目の単語か）への連想配列（辞書型もしくはマップ型）を作成せよ．"
      ]
    },
    {
      "cell_type": "code",
      "metadata": {
        "id": "z_GAvir2Bjxz",
        "colab_type": "code",
        "colab": {}
      },
      "source": [
        ""
      ],
      "execution_count": null,
      "outputs": []
    }
  ]
}