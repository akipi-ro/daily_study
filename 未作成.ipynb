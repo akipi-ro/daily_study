{
  "nbformat": 4,
  "nbformat_minor": 0,
  "metadata": {
    "colab": {
      "name": "Untitled12.ipynb",
      "provenance": [],
      "authorship_tag": "ABX9TyP0mvFhGxatlHcbtoCqZ4tb",
      "include_colab_link": true
    },
    "kernelspec": {
      "name": "python3",
      "display_name": "Python 3"
    }
  },
  "cells": [
    {
      "cell_type": "markdown",
      "metadata": {
        "id": "view-in-github",
        "colab_type": "text"
      },
      "source": [
        "<a href=\"https://colab.research.google.com/github/akipi-ro/daily_study/blob/master/%E6%9C%AA%E4%BD%9C%E6%88%90.ipynb\" target=\"_parent\"><img src=\"https://colab.research.google.com/assets/colab-badge.svg\" alt=\"Open In Colab\"/></a>"
      ]
    },
    {
      "cell_type": "code",
      "metadata": {
        "id": "97irWcCB_kOV",
        "colab_type": "code",
        "colab": {
          "base_uri": "https://localhost:8080/",
          "height": 134
        },
        "outputId": "e174a5da-e2f4-4139-adde-0ea24c379449"
      },
      "source": [
        "#rstanがインストールされていないならインストールする\n",
        "x<-installed.packages()\n",
        "if(any(x[,1]== 'rstan') == FALSE){\n",
        "    system(\"add-apt-repository -y ppa:marutter/rrutter3.5\")\n",
        "    system(\"add-apt-repository -y ppa:marutter/c2d4u3.5\") \n",
        "    system(\"apt-get update\")\n",
        "    system(\"apt install -y r-cran-rstan\")\n",
        "}"
      ],
      "execution_count": 1,
      "outputs": [
        {
          "output_type": "error",
          "ename": "SyntaxError",
          "evalue": "ignored",
          "traceback": [
            "\u001b[0;36m  File \u001b[0;32m\"<ipython-input-1-2272e5a26ddc>\"\u001b[0;36m, line \u001b[0;32m3\u001b[0m\n\u001b[0;31m    if(any(x[,1]== 'rstan') == FALSE){\u001b[0m\n\u001b[0m             ^\u001b[0m\n\u001b[0;31mSyntaxError\u001b[0m\u001b[0;31m:\u001b[0m invalid syntax\n"
          ]
        }
      ]
    },
    {
      "cell_type": "code",
      "metadata": {
        "id": "Ydy1FOsH_qVw",
        "colab_type": "code",
        "colab": {}
      },
      "source": [
        "library(rstan)\n",
        "# Automobile Datasetより\n",
        "auto <- read.csv(\"Automobile.csv\") # データフレームが得られる \n",
        "weight.gas <- auto[auto$fuel.type==\"gas\",]$curb.weight # ガソリン車の行から車両重量を取り出す\n",
        "weight.diesel <- auto[auto$fuel.type==\"diesel\",]$curb.weight # ディーゼル車の行から車両重量を取り出す\n",
        "# 箱ひげ図を描く\n",
        "\n",
        "\n",
        "summary(weight.gas)\n",
        "summary(weight.diesel)\n",
        "\n",
        "\n",
        "mean(weight.gas)\n",
        "mean(weight.diesel)\n",
        "sd(weight.gas)#標準偏差\n",
        "sd(weight.diesel)\n",
        "var(weight.gas)#分散\n",
        "var(weight.diesel)\n",
        "\n",
        "boxplot(auto$curb.weight ~ auto$fuel.type)\n",
        "\n",
        "\n",
        "library(rstan)\n",
        "#ダイエット問題\n",
        "x1 <- c(53.1,51.5,45.5,55.5,49.6,50.1,59.2,54.7,53.0,48.6,55.3,52.6,51.7,\n",
        "        48.6,56.4,42.9,50.3,42.4,51.2,39.1)\n",
        "x2 <- c(48.3,45.2,46.6,56.6,41.2,44.6,51.9,55.5,45.4,47.6,50.6,54.5,49.0,\n",
        "        43.9,53.8,40.1,52.8,35.3,55.6,38.0)\n",
        "n <- length(x1)\n",
        "diet <- matrix(c(x1,x2),n,2)\n",
        "\n",
        "#標準偏差が共通した2変量正規分布モデル\n",
        "fit <- stan(\"2groups-paired.stan\",\n",
        "            data=list(n = n,\n",
        "                      x = diet),\n",
        "            iter=21000,warmup=1000,chains=5)\n",
        "stan_hist(fit,pars=c(\"mu[1]\",\"mu[2]\",\"sigma\",\"rho\"))\n",
        "print(fit,probs=c(0.025,0.05,0.95,0.975))\n",
        "\n",
        "#標準偏差が異なる2変量正規分布モデル\n",
        "fit <- stan(\"2groups-paired-DEF.stan\",\n",
        "            data=list(n = n,\n",
        "                      x = diet),\n",
        "            iter=21000,warmup=1000,chains=5)\n",
        "print(fit,probs=c(0.025,0.05,0.95,0.975))\n",
        "\n",
        "\n"
      ],
      "execution_count": null,
      "outputs": []
    },
    {
      "cell_type": "code",
      "metadata": {
        "id": "nYaoqSy_rluS",
        "colab_type": "code",
        "colab": {}
      },
      "source": [
        "\n",
        "data {\n",
        "  int n; // 各群のデータ数\n",
        "  vector[2] x[n]; // 第1群、第2群のデータ\n",
        "}\n",
        "\n",
        "parameters {\n",
        "  vector[2] mu; // 平均ベクトル μ\n",
        "  real<lower=0> sigma;  // 第1群、第2群の標準偏差σ\n",
        "  real<lower=-1,upper=1> rho; // 相関係数ρ\n",
        "}\n",
        "\n",
        "transformed parameters {\n",
        "  cov_matrix[2] Sigma; // 分散共分散行列Σ\n",
        "  Sigma[1,1]  = sigma ^ 2;\n",
        "  Sigma[2,2]  = sigma ^ 2;\n",
        "  Sigma[1,2]  = rho * sigma ^ 2;\n",
        "  Sigma[2,1]  = rho * sigma ^ 2;\n",
        "}\n",
        "\n",
        "model {\n",
        "  mu ~ uniform(0,100);\n",
        "  sigma ~ uniform(0,50);\n",
        "  rho ~ uniform(-1,1);\n",
        "\n",
        "  x ~ multi_normal(mu,Sigma); // 多変量正規分布\n",
        "}\n",
        "\n",
        "generated quantities {\n",
        "  real mu1_minus_mu2;\n",
        "  real u_mu1_minus_mu2_gt_2;\n",
        "  real delta;\n",
        "  real u_delta_gt_03;\n",
        "  real one_minus_U3;\n",
        "  real u_U3_gt_06;\n",
        "  real pi_d;\n",
        "  real u_pi_d_gt_07;\n",
        "  real sigmap;\n",
        "  real deltap;\n",
        "  real pip_d;\n",
        "  real pip_4;\n",
        "  real Con;\n",
        "\n",
        "  mu1_minus_mu2 = mu[1] - mu[2]; // μ1-μ2 式(3.11)\n",
        "  u_mu1_minus_mu2_gt_2 = mu[1] - mu[2] > 2; // u_{μ1-μ2>c} 式(3.13)\n",
        "  delta = (mu[1] - mu[2]) / sigma; // δ 式(3.15)\n",
        "  u_delta_gt_03 = delta > 0.3; // u_{δ>c} 式(3.16)\n",
        "  one_minus_U3 = normal_cdf(mu[2], mu[1], sigma); // 1-U3\n",
        "  u_U3_gt_06 = one_minus_U3 < 0.4; // u_{U3>c} 式(3.21)\n",
        "  pi_d = normal_cdf(delta / sqrt(2), 0, 1); // πd 式(3.24)\n",
        "  u_pi_d_gt_07 = pi_d > 0.7; // u_{πd>c} 式(3.26)\n",
        "  sigmap = sigma * sqrt(2 * (1 - rho)); // σ' 式(4.23)\n",
        "  deltap = (mu[1] - mu[2]) / sigmap; // δ' 式(4.26)\n",
        "  pip_d = normal_cdf((mu[1] - mu[2]) / sigmap, 0, 1); // π'd 式(4.29)\n",
        "  pip_4 = normal_cdf((mu[1] - mu[2] - 4.0) / sigmap, 0, 1); // π'c 式(4.32)\n",
        "  Con = 0.5 + asin(rho)/pi(); // 式(4.36)\n",
        "}\n"
      ],
      "execution_count": null,
      "outputs": []
    },
    {
      "cell_type": "code",
      "metadata": {
        "id": "QZTCQSUxJP-j",
        "colab_type": "code",
        "colab": {}
      },
      "source": [
        ""
      ],
      "execution_count": null,
      "outputs": []
    }
  ]
}