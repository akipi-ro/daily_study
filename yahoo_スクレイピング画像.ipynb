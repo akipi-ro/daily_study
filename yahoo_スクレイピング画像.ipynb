{
  "nbformat": 4,
  "nbformat_minor": 0,
  "metadata": {
    "colab": {
      "name": "Untitled20.ipynb",
      "provenance": [],
      "authorship_tag": "ABX9TyMGTd05awiWcJa0gkllEcBe",
      "include_colab_link": true
    },
    "kernelspec": {
      "name": "python3",
      "display_name": "Python 3"
    }
  },
  "cells": [
    {
      "cell_type": "markdown",
      "metadata": {
        "id": "view-in-github",
        "colab_type": "text"
      },
      "source": [
        "<a href=\"https://colab.research.google.com/github/akipi-ro/daily_study/blob/master/yahoo_%E3%82%B9%E3%82%AF%E3%83%AC%E3%82%A4%E3%83%94%E3%83%B3%E3%82%B0%E7%94%BB%E5%83%8F.ipynb\" target=\"_parent\"><img src=\"https://colab.research.google.com/assets/colab-badge.svg\" alt=\"Open In Colab\"/></a>"
      ]
    },
    {
      "cell_type": "markdown",
      "metadata": {
        "id": "nIC2JjcU8_vc",
        "colab_type": "text"
      },
      "source": [
        "スクレイピングPython\n"
      ]
    },
    {
      "cell_type": "code",
      "metadata": {
        "id": "sKZJUMS_tPPr",
        "colab_type": "code",
        "colab": {}
      },
      "source": [
        "import requests\n",
        "\n",
        "from bs4 import BeautifulSoup"
      ],
      "execution_count": 0,
      "outputs": []
    },
    {
      "cell_type": "code",
      "metadata": {
        "id": "WKi_CcG-thhP",
        "colab_type": "code",
        "colab": {}
      },
      "source": [
        "page_url = \"https://search.yahoo.co.jp/image/search?p=%E6%96%8E%E8%97%A4%E9%A3%9B%E9%B3%A5&ei=UTF-8&ts=4170&aq=-1&ai=Oq2h1k8MTPi25eZT98cQoA&fr=top_ga1_sa\"\n",
        "r = requests.get(page_url)\n",
        "\n",
        "soup = BeautifulSoup(r.text,features=\"html.parser\")"
      ],
      "execution_count": 0,
      "outputs": []
    },
    {
      "cell_type": "code",
      "metadata": {
        "id": "4d75rTrGuKgd",
        "colab_type": "code",
        "colab": {
          "base_uri": "https://localhost:8080/",
          "height": 370
        },
        "outputId": "10f42cf6-cc6b-43f9-a546-f7b7d3f58c5c"
      },
      "source": [
        "soup.find_all(\"img\",attrs={\"alt\":\"「斎藤飛鳥」の画像検索結果\"})"
      ],
      "execution_count": 6,
      "outputs": [
        {
          "output_type": "execute_result",
          "data": {
            "text/plain": [
              "[<img alt=\"「斎藤飛鳥」の画像検索結果\" rel=\"https://www.nogizaka46.com/smph/member/img/saitouasuka_prof.jpg|https://msp.c.yimg.jp/yjimage?q=t89PsBIXyLEoMrC08cf.PBDLNwEEDE1IlfX295n51PafrpY0wUZlip1c3Gck1hQpa11.8PnlAfjPguFt4BJ985iWMKh9Sn71boEuz296i74Ywzc.OB0OeB.5PfDGGgN9HFVrruvZqCp3GUyGxENxK7U-&amp;sig=13c0fietd&amp;x=204&amp;y=247|290x350|87.0kB|齋藤 飛鳥｜メンバー紹介｜乃木...|https://www.nogizaka46.com/member/detail/saitouasuka.php|1|\" src=\"https://msp.c.yimg.jp/yjimage?q=t89PsBIXyLEoMrC08cf.PBDLNwEEDE1IlfX295n51PafrpY0wUZlip1c3Gck1hQpa11.8PnlAfjPguFt4BJ985iWMKh9Sn71boEuz296i74Ywzc.OB0OeB.5PfDGGgN9HFVrruvZqCp3GUyGxENxK7U-&amp;sig=13c0fietd&amp;x=204&amp;y=247\"/>,\n",
              " <img alt=\"「斎藤飛鳥」の画像検索結果\" rel=\"https://e-talentbank.co.jp/wp-content/uploads/2019/12/saitou.jpg|https://msp.c.yimg.jp/yjimage?q=HvphLkkXyLFiPYK94aDQOh7NMscnFdLanbIPJ0IPj8IpN8pnf6fS5VfSxMdJZq.i7UbxL9mkPo41rr3FSvp2eEoTNZw2bQKT0QTVQqAOaMdbJ1yPm0_ucCJ6RkISOsdoyJRx.3Ow8CgUVGHbW70W&amp;sig=13a1hs4on&amp;x=229&amp;y=220|840x809|77.1kB|乃木坂46・齋藤飛鳥、“一人焼肉”...|https://e-talentbank.co.jp/news/124133/|2|\" src=\"https://msp.c.yimg.jp/yjimage?q=HvphLkkXyLFiPYK94aDQOh7NMscnFdLanbIPJ0IPj8IpN8pnf6fS5VfSxMdJZq.i7UbxL9mkPo41rr3FSvp2eEoTNZw2bQKT0QTVQqAOaMdbJ1yPm0_ucCJ6RkISOsdoyJRx.3Ow8CgUVGHbW70W&amp;sig=13a1hs4on&amp;x=229&amp;y=220\"/>,\n",
              " <img alt=\"「斎藤飛鳥」の画像検索結果\" rel=\"https://upload.wikimedia.org/wikipedia/commons/4/4f/Saito_Asuka.jpg|https://msp.c.yimg.jp/yjimage?q=1Dij7OoXyLEj2Y7mkQDPPEOtRCSwClNYPLGU6apBdFUrXQPVz5409RQIQbI7E1_rkP2qSEq05dDg3x2iDdZrC8djTINGluDamdO_utB2ir_P5_Cx3K6srl.dMywGAil4A4DL8BfJ1272bGnu2UytI_w-&amp;sig=13c4gi914&amp;x=194&amp;y=259|932x1243|724.9kB|齋藤飛鳥 - Wikipedia|https://ja.wikipedia.org/wiki/%E9%BD%8B%E8%97%A4%E9%A3%9B%E9%B3%A5|3|\" src=\"https://msp.c.yimg.jp/yjimage?q=1Dij7OoXyLEj2Y7mkQDPPEOtRCSwClNYPLGU6apBdFUrXQPVz5409RQIQbI7E1_rkP2qSEq05dDg3x2iDdZrC8djTINGluDamdO_utB2ir_P5_Cx3K6srl.dMywGAil4A4DL8BfJ1272bGnu2UytI_w-&amp;sig=13c4gi914&amp;x=194&amp;y=259\"/>,\n",
              " <img alt=\"「斎藤飛鳥」の画像検索結果\" rel=\"https://www.mbs.jp/jounetsu/prof_images/20181209.jpg|https://msp.c.yimg.jp/yjimage?q=QRyuIWIXyLE0ZWw.UT05wyXQ6.4pwh70U9FQj2i73c36NYVtXX__qf9t3NWy6SOQR2I6cuOFNxgng4QiF2X4rXPTVsOEsSrw6X4qwPcWQfJniWs_M_SzQ.j4CYap12hAx2Ob2C86Q35hl7BPS7KMNjs-&amp;sig=13cju41fr&amp;x=300&amp;y=139|1390x650|73.3kB|齋藤飛鳥（乃木坂46・アイドル）...|https://www.mbs.jp/jounetsu/2018/12_09.shtml|4|\" src=\"https://msp.c.yimg.jp/yjimage?q=QRyuIWIXyLE0ZWw.UT05wyXQ6.4pwh70U9FQj2i73c36NYVtXX__qf9t3NWy6SOQR2I6cuOFNxgng4QiF2X4rXPTVsOEsSrw6X4qwPcWQfJniWs_M_SzQ.j4CYap12hAx2Ob2C86Q35hl7BPS7KMNjs-&amp;sig=13cju41fr&amp;x=300&amp;y=139\"/>,\n",
              " <img alt=\"「斎藤飛鳥」の画像検索結果\" rel=\"https://i.pinimg.com/originals/0b/32/7f/0b327f671c51cdfe17923a76e914ecfd.jpg|https://msp.c.yimg.jp/yjimage?q=kwS1AcgXyLFfk9JH02xU8.ndxvs3JMRWE3VPTQapCG3E.A4OZcHq4D2RaGbHnjCXyGDKQuLz5gbf62k2yPkHBmVOflMZ81qvTMrLJUQv1tg0UMS26ks3X1SHDIjY3TuPbyOa3QoGmh1srnW5zcKg&amp;sig=13aobbru6&amp;x=188&amp;y=268|2468x3509|715.3kB|齋藤飛鳥 #斋藤飞鸟 #あしゅ #齋...|https://www.pinterest.com/pin/598626975451926351/|5|\" src=\"https://msp.c.yimg.jp/yjimage?q=kwS1AcgXyLFfk9JH02xU8.ndxvs3JMRWE3VPTQapCG3E.A4OZcHq4D2RaGbHnjCXyGDKQuLz5gbf62k2yPkHBmVOflMZ81qvTMrLJUQv1tg0UMS26ks3X1SHDIjY3TuPbyOa3QoGmh1srnW5zcKg&amp;sig=13aobbru6&amp;x=188&amp;y=268\"/>,\n",
              " <img alt=\"「斎藤飛鳥」の画像検索結果\" rel=\"https://amd.c.yimg.jp/amd/20200413-00010000-jwave-000-1-view.jpg|https://msp.c.yimg.jp/yjimage?q=AxRney8XyLGJLpLNDDM1uXMUIH0yvjkdZjolNLpYwI8MmBgWE8mc6j5bnJU2NXW28EHXMY6Ax_mSAC91ZMww7KlTy3SG6bBcw.xEMQiIfRkIzDfFqaHKEP172.A.mA3HtXdyB1IrKcqKaO65ZzU2LCU-&amp;sig=13ccopiee&amp;x=218&amp;y=231|384x408|161.7kB|乃木坂46・齋藤飛鳥×ハリー杉山...|https://headlines.yahoo.co.jp/hl?a=20200413-00010000-jwave-musi|6|\" src=\"https://msp.c.yimg.jp/yjimage?q=AxRney8XyLGJLpLNDDM1uXMUIH0yvjkdZjolNLpYwI8MmBgWE8mc6j5bnJU2NXW28EHXMY6Ax_mSAC91ZMww7KlTy3SG6bBcw.xEMQiIfRkIzDfFqaHKEP172.A.mA3HtXdyB1IrKcqKaO65ZzU2LCU-&amp;sig=13ccopiee&amp;x=218&amp;y=231\"/>,\n",
              " <img alt=\"「斎藤飛鳥」の画像検索結果\" rel=\"https://news.mynavi.jp/article/20200427-1024634/images/001.jpg|https://msp.c.yimg.jp/yjimage?q=BqmF9YEXyLFAy0Au6kJQektj1sdoL0ueMwI1dzWNRCKGnpU43oqEOFVtMjyPaqVZcmUtqOMNGTL0bCv0ev0VVy0wBOBV6SZb5VxZR51vPb9SGkf1SDX6Dy_mLfJi.veiiXDpZxTc5nOznIXN8iGlUvU-&amp;sig=13ccibkp3&amp;x=225&amp;y=225|531x531|66.5kB|齋藤飛鳥、山下美月から絶賛され...|https://news.mynavi.jp/article/20200427-1024634/|7|\" src=\"https://msp.c.yimg.jp/yjimage?q=BqmF9YEXyLFAy0Au6kJQektj1sdoL0ueMwI1dzWNRCKGnpU43oqEOFVtMjyPaqVZcmUtqOMNGTL0bCv0ev0VVy0wBOBV6SZb5VxZR51vPb9SGkf1SDX6Dy_mLfJi.veiiXDpZxTc5nOznIXN8iGlUvU-&amp;sig=13ccibkp3&amp;x=225&amp;y=225\"/>,\n",
              " <img alt=\"「斎藤飛鳥」の画像検索結果\" rel=\"https://storage.mainichikirei.jp/images/2018/09/26/20180926dog00m100015000c/001_size6.jpg|https://msp.c.yimg.jp/yjimage?q=ZvuN28oXyLHeD3qFqk09pOVdNqPLtjqMZbGaVQo5fpj9jFhvwxwhqGbxrcfF8iS1wocjnFhz_NJSFsy7qt5GToBIht2zBw7zsXEYJNPnoeJsuZMGxZ4kUSKwgf27KRXGNp3eh93YrSwnJAyQeAq5nOQ-&amp;sig=13ce00c50&amp;x=247&amp;y=204|720x593|35.1kB|乃木坂46齋藤飛鳥：バリカンにハ...|https://mainichikirei.jp/article/20180926dog00m100015000c.html|8|\" src=\"https://msp.c.yimg.jp/yjimage?q=ZvuN28oXyLHeD3qFqk09pOVdNqPLtjqMZbGaVQo5fpj9jFhvwxwhqGbxrcfF8iS1wocjnFhz_NJSFsy7qt5GToBIht2zBw7zsXEYJNPnoeJsuZMGxZ4kUSKwgf27KRXGNp3eh93YrSwnJAyQeAq5nOQ-&amp;sig=13ce00c50&amp;x=247&amp;y=204\"/>,\n",
              " <img alt=\"「斎藤飛鳥」の画像検索結果\" rel=\"https://bltweb.jp/wp/wp-content/uploads/2019/07/RE_L1049805-1-1024x681.jpg|https://msp.c.yimg.jp/yjimage?q=3i9.twEXyLENBYrJKOs2Dmp.SBZmRrLKdaSdqaq98DG6FgeZb.TEG.B4iIkSszFfwagQO6tIjiD9XRE_hzcr4s9WRLMYBrRENdy_kRyBJDpGPE3jGJ6Jbvmoi1vaLaKVbVCSCqPny88HvHB6WCyCyG0-&amp;sig=13cc2sm0q&amp;x=275&amp;y=183|1024x681|88.4kB|ちょっとコワいよね（笑）」齋藤...|https://bltweb.jp/2019/07/06/nogizaka46_interview_pickup/|9|\" src=\"https://msp.c.yimg.jp/yjimage?q=3i9.twEXyLENBYrJKOs2Dmp.SBZmRrLKdaSdqaq98DG6FgeZb.TEG.B4iIkSszFfwagQO6tIjiD9XRE_hzcr4s9WRLMYBrRENdy_kRyBJDpGPE3jGJ6Jbvmoi1vaLaKVbVCSCqPny88HvHB6WCyCyG0-&amp;sig=13cc2sm0q&amp;x=275&amp;y=183\"/>,\n",
              " <img alt=\"「斎藤飛鳥」の画像検索結果\" rel=\"https://news-img.dwango.jp/uploads/medium/file/000/149/505/149505/lg_cv4e8x0xqu5gdxk3fuy.jpg|https://msp.c.yimg.jp/yjimage?q=AatdInAXyLHImykOGVAUisi_XcrD.Xf6Rppc0B.DhKz.jmLhKughikYdC1xmbhrkNoobzqpkDj3bv75Y5SmLokxI1YhEot9bmUXc0niYaYS4ZptothfhxrRzxKpYkkNMaFMfdNzOmC.SBlVIhuLl&amp;sig=13a4dkof7&amp;x=184&amp;y=273|473x700|38.6kB|乃木坂46齋藤飛鳥、誰も知らない...|https://news.dwango.jp/idol/37753-1905|10|\" src=\"https://msp.c.yimg.jp/yjimage?q=AatdInAXyLHImykOGVAUisi_XcrD.Xf6Rppc0B.DhKz.jmLhKughikYdC1xmbhrkNoobzqpkDj3bv75Y5SmLokxI1YhEot9bmUXc0niYaYS4ZptothfhxrRzxKpYkkNMaFMfdNzOmC.SBlVIhuLl&amp;sig=13a4dkof7&amp;x=184&amp;y=273\"/>,\n",
              " <img alt=\"「斎藤飛鳥」の画像検索結果\" rel=\"https://quizjapan.com/wp-content/uploads/2018/12/jpp027636814-e1545837584614.jpg|https://msp.c.yimg.jp/yjimage?q=3PCzJmkXyLH3i53_o2nMRKGk0OZcfzvQmT8dChS6xSI2d5W55g.LhyiBGq39FN88TAgdx2hyYWNntI3nMns7FrQlw2QlN_VmeNsD6x7oOLoo9r0eRv9ZOCYRNOVudY1ssiH9yDmxBrhMdkNWZUotEG4-&amp;sig=13cm9gt0v&amp;x=187&amp;y=269|1200x1720|154.6kB|乃木坂46・齋藤飛鳥。貧乏臭すぎ...|https://quizjapan.com/2018/12/29/post-5643/|11|\" src=\"https://msp.c.yimg.jp/yjimage?q=3PCzJmkXyLH3i53_o2nMRKGk0OZcfzvQmT8dChS6xSI2d5W55g.LhyiBGq39FN88TAgdx2hyYWNntI3nMns7FrQlw2QlN_VmeNsD6x7oOLoo9r0eRv9ZOCYRNOVudY1ssiH9yDmxBrhMdkNWZUotEG4-&amp;sig=13cm9gt0v&amp;x=187&amp;y=269\"/>,\n",
              " <img alt=\"「斎藤飛鳥」の画像検索結果\" rel=\"https://img-s-msn-com.akamaized.net/tenant/amp/entityid/AADF0v3.img?h=0&amp;amp;w=720&amp;amp;m=6&amp;amp;q=60&amp;amp;u=t&amp;amp;o=f&amp;amp;l=f&amp;amp;x=430&amp;amp;y=328|https://msp.c.yimg.jp/yjimage?q=D3oIdYkXyLFoV7R9lqpoxObHwE9OrR_4luaK2ZjtC1lgfAvgzUthh2aHY4vRPn7T8.e_U0p73oyaEy.nFp1RVRfgX1zLAx9BwNI43WuDWUa7AoD37AV5wfpZNLNRBUdrKlTICIyzwFV_X_YZwEFI&amp;sig=13a1u4if8&amp;x=230&amp;y=219|720x687|35.6kB|乃木坂46・齋藤飛鳥が明かす高校...|https://www.msn.com/ja-jp/entertainment/celebrity/%E4%B9%83%E6%9C%A8%E5%9D%8246-%E9%BD%8B%E8%97%A4%E9%A3%9B%E9%B3%A5%E3%81%8C%E6%98%8E%E3%81%8B%E3%81%99%E9%AB%98%E6%A0%A1%E6%99%82%E4%BB%A3%E3%81%AE%E8%91%9B%E8%97%A4-%E5%AD%A6%E6%A0%A1%E3%81%AB%E9%A6%B4%E6%9F%93%E3%82%81%E3%81%AA%E3%81%84%E4%BA%BA%E3%82%82-%E6%84%8F%E5%A4%96%E3%81%A8%E3%81%AA%E3%82%93%E3%81%A8%E3%81%8B%E3%81%AA%E3%82%8B/ar-AADFIKV|12|\" src=\"https://msp.c.yimg.jp/yjimage?q=D3oIdYkXyLFoV7R9lqpoxObHwE9OrR_4luaK2ZjtC1lgfAvgzUthh2aHY4vRPn7T8.e_U0p73oyaEy.nFp1RVRfgX1zLAx9BwNI43WuDWUa7AoD37AV5wfpZNLNRBUdrKlTICIyzwFV_X_YZwEFI&amp;sig=13a1u4if8&amp;x=230&amp;y=219\"/>,\n",
              " <img alt=\"「斎藤飛鳥」の画像検索結果\" rel=\"https://www.crank-in.net/img/db/1393250_650.jpg|https://msp.c.yimg.jp/yjimage?q=ITMqXgcXyLH4UY0hToF4qq0n7pQJGABPkvIpi1VuCSt8evre97ANugJJ6y6K7cQsScnrklmBXmzyulfvt7E5hTsNj_HEgdnFCN9ibQTSNkG0WcZ2EkHlArhFNz7yVRwtOco7JSVIE7HmDFg3NIW8el4-&amp;sig=13cvso7tn&amp;x=225&amp;y=225|650x650|62.0kB|乃木坂46・齋藤飛鳥 1年近く“ほ...|https://m.crank-in.net/news/76307/1|13|\" src=\"https://msp.c.yimg.jp/yjimage?q=ITMqXgcXyLH4UY0hToF4qq0n7pQJGABPkvIpi1VuCSt8evre97ANugJJ6y6K7cQsScnrklmBXmzyulfvt7E5hTsNj_HEgdnFCN9ibQTSNkG0WcZ2EkHlArhFNz7yVRwtOco7JSVIE7HmDFg3NIW8el4-&amp;sig=13cvso7tn&amp;x=225&amp;y=225\"/>,\n",
              " <img alt=\"「斎藤飛鳥」の画像検索結果\" rel=\"https://nationaltcc.org/wp-content/uploads/2020/03/asukasaito23.jpg|https://msp.c.yimg.jp/yjimage?q=ZpRhYAoXyLGoQJbAfRIKS37LSZK4pJdq5VS0Mf2ay.AzQthAIGaupDqJADQXWvY973EhB0a8OjnBjqzARCsCwbXUltgHHxBPX2XZNLWxZUpkP9Vz.wWhrLzes.Hc5.QXtIr7E6zcUbFhMEpXZtwSKK8-&amp;sig=13cgfb3nk&amp;x=269&amp;y=188|830x580|105.6kB|齋藤飛鳥の母親はミャンマー人で...|https://nationaltcc.org/idol/nogizaka46/asuka-saito-family/|14|\" src=\"https://msp.c.yimg.jp/yjimage?q=ZpRhYAoXyLGoQJbAfRIKS37LSZK4pJdq5VS0Mf2ay.AzQthAIGaupDqJADQXWvY973EhB0a8OjnBjqzARCsCwbXUltgHHxBPX2XZNLWxZUpkP9Vz.wWhrLzes.Hc5.QXtIr7E6zcUbFhMEpXZtwSKK8-&amp;sig=13cgfb3nk&amp;x=269&amp;y=188\"/>,\n",
              " <img alt=\"「斎藤飛鳥」の画像検索結果\" rel=\"https://www.sponichi.co.jp/entertainment/news/2019/03/09/jpeg/20190309s00041000130000p_view.jpg|https://msp.c.yimg.jp/yjimage?q=VbNcTwMXyLG.hMG7IC0Fo5B9LRF6ZC_WlMT8DAk52TOV3KBQZQ8PIkAdp7szsv0WHGfabadhe88xG_idd6yhMDirWiXaSAowNAroUwxyDKpetNs0_MG3u1I5vXWSAswGFgarXYggriX6JGXhWmG2&amp;sig=13agp91sh&amp;x=202&amp;y=250|810x1000|194.5kB|乃木坂・齋藤飛鳥 メンバー同士...|https://www.sponichi.co.jp/entertainment/news/2019/03/09/kiji/20190309s00041000131000c.html|15|\" src=\"https://msp.c.yimg.jp/yjimage?q=VbNcTwMXyLG.hMG7IC0Fo5B9LRF6ZC_WlMT8DAk52TOV3KBQZQ8PIkAdp7szsv0WHGfabadhe88xG_idd6yhMDirWiXaSAowNAroUwxyDKpetNs0_MG3u1I5vXWSAswGFgarXYggriX6JGXhWmG2&amp;sig=13agp91sh&amp;x=202&amp;y=250\"/>,\n",
              " <img alt=\"「斎藤飛鳥」の画像検索結果\" rel=\"https://www.nikkansports.com/entertainment/column/sakamichi/news/img/201910150000038-w500_0.jpg|https://msp.c.yimg.jp/yjimage?q=mcLnwvIXyLGJP4KR.OpD6JVWBpDhyAVIFmvF0ksITxIyNO0ttv4uNLO2WJztpX1dMNu1bTtOltUxj2ELqbrmLIz8zELc_AAhZJlVAyigfu2VHxpKINi04ZIbtJj.1BT2DvGAbkB8P3e_oTyYwksx&amp;sig=13al2ldis&amp;x=258&amp;y=195|500x379|15.9kB|齋藤飛鳥ら乃木坂電撃3人娘“最強...|https://www.nikkansports.com/entertainment/column/sakamichi/news/201910150000038.html|16|\" src=\"https://msp.c.yimg.jp/yjimage?q=mcLnwvIXyLGJP4KR.OpD6JVWBpDhyAVIFmvF0ksITxIyNO0ttv4uNLO2WJztpX1dMNu1bTtOltUxj2ELqbrmLIz8zELc_AAhZJlVAyigfu2VHxpKINi04ZIbtJj.1BT2DvGAbkB8P3e_oTyYwksx&amp;sig=13al2ldis&amp;x=258&amp;y=195\"/>,\n",
              " <img alt=\"「斎藤飛鳥」の画像検索結果\" rel=\"https://2xmlabs.com/wp-content/uploads/2018/05/DChIrfHVoAI9j29.jpg|https://msp.c.yimg.jp/yjimage?q=nktd6HwXyLGpwHEwBbAf9XDoKMo_qJZdpGyDUbl1dNYxFBThVTAhGM9_6zc4mPe3iF_xmCeAdxetKZXI3DKFgU8Z9dhNloFUXaRotVidCoI_7i7XbV1Vorcb3_YgWj74I8DbDNof9R9ZGUO2HSAU&amp;sig=13a38sqb9&amp;x=225&amp;y=225|475x475|34.8kB|齋藤飛鳥が小顔すぎる！顔の大き...|https://2xmlabs.com/archives/8805|17|\" src=\"https://msp.c.yimg.jp/yjimage?q=nktd6HwXyLGpwHEwBbAf9XDoKMo_qJZdpGyDUbl1dNYxFBThVTAhGM9_6zc4mPe3iF_xmCeAdxetKZXI3DKFgU8Z9dhNloFUXaRotVidCoI_7i7XbV1Vorcb3_YgWj74I8DbDNof9R9ZGUO2HSAU&amp;sig=13a38sqb9&amp;x=225&amp;y=225\"/>,\n",
              " <img alt=\"「斎藤飛鳥」の画像検索結果\" rel=\"https://img-s-msn-com.akamaized.net/tenant/amp/entityid/BBZmeTB.img?h=0&amp;amp;w=720&amp;amp;m=6&amp;amp;q=60&amp;amp;u=t&amp;amp;o=f&amp;amp;l=f&amp;amp;x=550&amp;amp;y=401|https://msp.c.yimg.jp/yjimage?q=P2DLi3wXyLFPlq8MCoI8q3aVwCeUE9U8AlnP6iKWxEMppZw0VlQJFz6jVSTPHurBeKjyxfGD1SeY8jPIEvDuNY8Yz2ipK4PC2_x6jGEKxZkoOD7jw0mTqyTqFJ7xXhaDDVZs2Yx9bXdcOwle9ou3&amp;sig=13ai7hq5r&amp;x=186&amp;y=270|720x1043|49.2kB|乃木坂46齋藤飛鳥：「若い世代に...|https://www.msn.com/ja-jp/entertainment/celebrity/%E4%B9%83%E6%9C%A8%E5%9D%8246%E9%BD%8B%E8%97%A4%E9%A3%9B%E9%B3%A5-%E8%8B%A5%E3%81%84%E4%B8%96%E4%BB%A3%E3%81%AB%E3%81%A4%E3%81%AA%E3%81%92%E3%81%A6%E3%81%84%E3%81%8B%E3%81%AA%E3%81%84%E3%81%A8-%E6%A2%85%E6%BE%A4%E7%BE%8E%E6%B3%A2%E3%82%89%E3%81%A8%E7%8C%AE%E8%A1%80%E3%81%AE%E5%A4%A7%E5%88%87%E3%81%95%E8%A8%B4%E3%81%88%E3%82%8B/ar-BBZm5d7|18|\" src=\"https://msp.c.yimg.jp/yjimage?q=P2DLi3wXyLFPlq8MCoI8q3aVwCeUE9U8AlnP6iKWxEMppZw0VlQJFz6jVSTPHurBeKjyxfGD1SeY8jPIEvDuNY8Yz2ipK4PC2_x6jGEKxZkoOD7jw0mTqyTqFJ7xXhaDDVZs2Yx9bXdcOwle9ou3&amp;sig=13ai7hq5r&amp;x=186&amp;y=270\"/>,\n",
              " <img alt=\"「斎藤飛鳥」の画像検索結果\" rel=\"https://news.walkerplus.com/article/163093/948277_615.jpg|https://msp.c.yimg.jp/yjimage?q=H3hlYi0XyLFOwB_H_T2ZeJjkw9RMuPqlWfp5QfI57lE5U8LgyDKOyD1v63VcJD3OssWqTdEZM1vMW.9BxoJJcXZed2riEAG6LYGIVcVayx.XtG4TiF8KHfvpkmbGEF4VD9UlyqS.goEoVergua4xvVs-&amp;sig=13c7opsb8&amp;x=251&amp;y=201|615x492|33.4kB|座長・山田裕貴とともに映画初出...|https://www.walkerplus.com/article/163093/image948277.html|19|\" src=\"https://msp.c.yimg.jp/yjimage?q=H3hlYi0XyLFOwB_H_T2ZeJjkw9RMuPqlWfp5QfI57lE5U8LgyDKOyD1v63VcJD3OssWqTdEZM1vMW.9BxoJJcXZed2riEAG6LYGIVcVayx.XtG4TiF8KHfvpkmbGEF4VD9UlyqS.goEoVergua4xvVs-&amp;sig=13c7opsb8&amp;x=251&amp;y=201\"/>,\n",
              " <img alt=\"「斎藤飛鳥」の画像検索結果\" rel=\"https://www.crank-in.net/img/db/1364578_650.jpg|https://msp.c.yimg.jp/yjimage?q=9lZPBn4XyLHNUwNTtd6OgcoABuIODuPU0g8YzBUM6lsP8tJ0_574pmkGsr5AHzJPGNwz4_r8taGzncRhr40wHHKo6GU.jF.qEhDTGUvzEyH74tXTdZXtTBFP1_3mSYfQETQmYq1WVPlkO4KaXRFuZj8-&amp;sig=13c0it11f&amp;x=259&amp;y=194|650x488|45.4kB|乃木坂46・齋藤飛鳥、恥ずかしさ...|https://www.crank-in.net/news/76162/1|20|\" src=\"https://msp.c.yimg.jp/yjimage?q=9lZPBn4XyLHNUwNTtd6OgcoABuIODuPU0g8YzBUM6lsP8tJ0_574pmkGsr5AHzJPGNwz4_r8taGzncRhr40wHHKo6GU.jF.qEhDTGUvzEyH74tXTdZXtTBFP1_3mSYfQETQmYq1WVPlkO4KaXRFuZj8-&amp;sig=13c0it11f&amp;x=259&amp;y=194\"/>]"
            ]
          },
          "metadata": {
            "tags": []
          },
          "execution_count": 6
        }
      ]
    },
    {
      "cell_type": "code",
      "metadata": {
        "id": "IL0QM1MIwvgU",
        "colab_type": "code",
        "colab": {}
      },
      "source": [
        "img_tags = soup.find_all(\"img\",attrs={\"alt\":\"「斎藤飛鳥」の画像検索結果\"})"
      ],
      "execution_count": 0,
      "outputs": []
    },
    {
      "cell_type": "code",
      "metadata": {
        "id": "yLb7Nj8ZxFOu",
        "colab_type": "code",
        "colab": {
          "base_uri": "https://localhost:8080/",
          "height": 370
        },
        "outputId": "1a655219-bbf4-4a92-d6ec-756519784ede"
      },
      "source": [
        "img_urls = []\n",
        "\n",
        "for img_tag in img_tags:\n",
        "  url = img_tag.get(\"src\")\n",
        "\n",
        "  img_urls.append(url)\n",
        "  print(url)"
      ],
      "execution_count": 9,
      "outputs": [
        {
          "output_type": "stream",
          "text": [
            "https://msp.c.yimg.jp/yjimage?q=t89PsBIXyLEoMrC08cf.PBDLNwEEDE1IlfX295n51PafrpY0wUZlip1c3Gck1hQpa11.8PnlAfjPguFt4BJ985iWMKh9Sn71boEuz296i74Ywzc.OB0OeB.5PfDGGgN9HFVrruvZqCp3GUyGxENxK7U-&sig=13c0fietd&x=204&y=247\n",
            "https://msp.c.yimg.jp/yjimage?q=HvphLkkXyLFiPYK94aDQOh7NMscnFdLanbIPJ0IPj8IpN8pnf6fS5VfSxMdJZq.i7UbxL9mkPo41rr3FSvp2eEoTNZw2bQKT0QTVQqAOaMdbJ1yPm0_ucCJ6RkISOsdoyJRx.3Ow8CgUVGHbW70W&sig=13a1hs4on&x=229&y=220\n",
            "https://msp.c.yimg.jp/yjimage?q=1Dij7OoXyLEj2Y7mkQDPPEOtRCSwClNYPLGU6apBdFUrXQPVz5409RQIQbI7E1_rkP2qSEq05dDg3x2iDdZrC8djTINGluDamdO_utB2ir_P5_Cx3K6srl.dMywGAil4A4DL8BfJ1272bGnu2UytI_w-&sig=13c4gi914&x=194&y=259\n",
            "https://msp.c.yimg.jp/yjimage?q=QRyuIWIXyLE0ZWw.UT05wyXQ6.4pwh70U9FQj2i73c36NYVtXX__qf9t3NWy6SOQR2I6cuOFNxgng4QiF2X4rXPTVsOEsSrw6X4qwPcWQfJniWs_M_SzQ.j4CYap12hAx2Ob2C86Q35hl7BPS7KMNjs-&sig=13cju41fr&x=300&y=139\n",
            "https://msp.c.yimg.jp/yjimage?q=kwS1AcgXyLFfk9JH02xU8.ndxvs3JMRWE3VPTQapCG3E.A4OZcHq4D2RaGbHnjCXyGDKQuLz5gbf62k2yPkHBmVOflMZ81qvTMrLJUQv1tg0UMS26ks3X1SHDIjY3TuPbyOa3QoGmh1srnW5zcKg&sig=13aobbru6&x=188&y=268\n",
            "https://msp.c.yimg.jp/yjimage?q=AxRney8XyLGJLpLNDDM1uXMUIH0yvjkdZjolNLpYwI8MmBgWE8mc6j5bnJU2NXW28EHXMY6Ax_mSAC91ZMww7KlTy3SG6bBcw.xEMQiIfRkIzDfFqaHKEP172.A.mA3HtXdyB1IrKcqKaO65ZzU2LCU-&sig=13ccopiee&x=218&y=231\n",
            "https://msp.c.yimg.jp/yjimage?q=BqmF9YEXyLFAy0Au6kJQektj1sdoL0ueMwI1dzWNRCKGnpU43oqEOFVtMjyPaqVZcmUtqOMNGTL0bCv0ev0VVy0wBOBV6SZb5VxZR51vPb9SGkf1SDX6Dy_mLfJi.veiiXDpZxTc5nOznIXN8iGlUvU-&sig=13ccibkp3&x=225&y=225\n",
            "https://msp.c.yimg.jp/yjimage?q=ZvuN28oXyLHeD3qFqk09pOVdNqPLtjqMZbGaVQo5fpj9jFhvwxwhqGbxrcfF8iS1wocjnFhz_NJSFsy7qt5GToBIht2zBw7zsXEYJNPnoeJsuZMGxZ4kUSKwgf27KRXGNp3eh93YrSwnJAyQeAq5nOQ-&sig=13ce00c50&x=247&y=204\n",
            "https://msp.c.yimg.jp/yjimage?q=3i9.twEXyLENBYrJKOs2Dmp.SBZmRrLKdaSdqaq98DG6FgeZb.TEG.B4iIkSszFfwagQO6tIjiD9XRE_hzcr4s9WRLMYBrRENdy_kRyBJDpGPE3jGJ6Jbvmoi1vaLaKVbVCSCqPny88HvHB6WCyCyG0-&sig=13cc2sm0q&x=275&y=183\n",
            "https://msp.c.yimg.jp/yjimage?q=AatdInAXyLHImykOGVAUisi_XcrD.Xf6Rppc0B.DhKz.jmLhKughikYdC1xmbhrkNoobzqpkDj3bv75Y5SmLokxI1YhEot9bmUXc0niYaYS4ZptothfhxrRzxKpYkkNMaFMfdNzOmC.SBlVIhuLl&sig=13a4dkof7&x=184&y=273\n",
            "https://msp.c.yimg.jp/yjimage?q=3PCzJmkXyLH3i53_o2nMRKGk0OZcfzvQmT8dChS6xSI2d5W55g.LhyiBGq39FN88TAgdx2hyYWNntI3nMns7FrQlw2QlN_VmeNsD6x7oOLoo9r0eRv9ZOCYRNOVudY1ssiH9yDmxBrhMdkNWZUotEG4-&sig=13cm9gt0v&x=187&y=269\n",
            "https://msp.c.yimg.jp/yjimage?q=D3oIdYkXyLFoV7R9lqpoxObHwE9OrR_4luaK2ZjtC1lgfAvgzUthh2aHY4vRPn7T8.e_U0p73oyaEy.nFp1RVRfgX1zLAx9BwNI43WuDWUa7AoD37AV5wfpZNLNRBUdrKlTICIyzwFV_X_YZwEFI&sig=13a1u4if8&x=230&y=219\n",
            "https://msp.c.yimg.jp/yjimage?q=ITMqXgcXyLH4UY0hToF4qq0n7pQJGABPkvIpi1VuCSt8evre97ANugJJ6y6K7cQsScnrklmBXmzyulfvt7E5hTsNj_HEgdnFCN9ibQTSNkG0WcZ2EkHlArhFNz7yVRwtOco7JSVIE7HmDFg3NIW8el4-&sig=13cvso7tn&x=225&y=225\n",
            "https://msp.c.yimg.jp/yjimage?q=ZpRhYAoXyLGoQJbAfRIKS37LSZK4pJdq5VS0Mf2ay.AzQthAIGaupDqJADQXWvY973EhB0a8OjnBjqzARCsCwbXUltgHHxBPX2XZNLWxZUpkP9Vz.wWhrLzes.Hc5.QXtIr7E6zcUbFhMEpXZtwSKK8-&sig=13cgfb3nk&x=269&y=188\n",
            "https://msp.c.yimg.jp/yjimage?q=VbNcTwMXyLG.hMG7IC0Fo5B9LRF6ZC_WlMT8DAk52TOV3KBQZQ8PIkAdp7szsv0WHGfabadhe88xG_idd6yhMDirWiXaSAowNAroUwxyDKpetNs0_MG3u1I5vXWSAswGFgarXYggriX6JGXhWmG2&sig=13agp91sh&x=202&y=250\n",
            "https://msp.c.yimg.jp/yjimage?q=mcLnwvIXyLGJP4KR.OpD6JVWBpDhyAVIFmvF0ksITxIyNO0ttv4uNLO2WJztpX1dMNu1bTtOltUxj2ELqbrmLIz8zELc_AAhZJlVAyigfu2VHxpKINi04ZIbtJj.1BT2DvGAbkB8P3e_oTyYwksx&sig=13al2ldis&x=258&y=195\n",
            "https://msp.c.yimg.jp/yjimage?q=nktd6HwXyLGpwHEwBbAf9XDoKMo_qJZdpGyDUbl1dNYxFBThVTAhGM9_6zc4mPe3iF_xmCeAdxetKZXI3DKFgU8Z9dhNloFUXaRotVidCoI_7i7XbV1Vorcb3_YgWj74I8DbDNof9R9ZGUO2HSAU&sig=13a38sqb9&x=225&y=225\n",
            "https://msp.c.yimg.jp/yjimage?q=P2DLi3wXyLFPlq8MCoI8q3aVwCeUE9U8AlnP6iKWxEMppZw0VlQJFz6jVSTPHurBeKjyxfGD1SeY8jPIEvDuNY8Yz2ipK4PC2_x6jGEKxZkoOD7jw0mTqyTqFJ7xXhaDDVZs2Yx9bXdcOwle9ou3&sig=13ai7hq5r&x=186&y=270\n",
            "https://msp.c.yimg.jp/yjimage?q=H3hlYi0XyLFOwB_H_T2ZeJjkw9RMuPqlWfp5QfI57lE5U8LgyDKOyD1v63VcJD3OssWqTdEZM1vMW.9BxoJJcXZed2riEAG6LYGIVcVayx.XtG4TiF8KHfvpkmbGEF4VD9UlyqS.goEoVergua4xvVs-&sig=13c7opsb8&x=251&y=201\n",
            "https://msp.c.yimg.jp/yjimage?q=9lZPBn4XyLHNUwNTtd6OgcoABuIODuPU0g8YzBUM6lsP8tJ0_574pmkGsr5AHzJPGNwz4_r8taGzncRhr40wHHKo6GU.jF.qEhDTGUvzEyH74tXTdZXtTBFP1_3mSYfQETQmYq1WVPlkO4KaXRFuZj8-&sig=13c0it11f&x=259&y=194\n"
          ],
          "name": "stdout"
        }
      ]
    },
    {
      "cell_type": "code",
      "metadata": {
        "id": "T4sCJ8pTxkmL",
        "colab_type": "code",
        "colab": {}
      },
      "source": [
        "def download_image(url,file_path):\n",
        "  r = requests.get(url,stream=True)#おまじない\n",
        "\n",
        "  if r.status_code ==200:\n",
        "    with open(file_path,\"wb\") as f:\n",
        "      f.write(r.content)"
      ],
      "execution_count": 0,
      "outputs": []
    },
    {
      "cell_type": "code",
      "metadata": {
        "id": "rKQNSa7Kyq62",
        "colab_type": "code",
        "colab": {
          "base_uri": "https://localhost:8080/",
          "height": 33
        },
        "outputId": "341f6bd1-88e9-4f50-cc64-3a1b609919b2"
      },
      "source": [
        "!ls"
      ],
      "execution_count": 11,
      "outputs": [
        {
          "output_type": "stream",
          "text": [
            "sample_data\n"
          ],
          "name": "stdout"
        }
      ]
    },
    {
      "cell_type": "code",
      "metadata": {
        "id": "LRrLo5wRyrlx",
        "colab_type": "code",
        "colab": {}
      },
      "source": [
        "!mkdir images"
      ],
      "execution_count": 0,
      "outputs": []
    },
    {
      "cell_type": "code",
      "metadata": {
        "id": "j95twmYi0rAr",
        "colab_type": "code",
        "colab": {
          "base_uri": "https://localhost:8080/",
          "height": 33
        },
        "outputId": "1a5134c2-cb9d-4248-d024-f2ab026ce99d"
      },
      "source": [
        "!ls"
      ],
      "execution_count": 15,
      "outputs": [
        {
          "output_type": "stream",
          "text": [
            "images\tsample_data\n"
          ],
          "name": "stdout"
        }
      ]
    },
    {
      "cell_type": "code",
      "metadata": {
        "id": "xxvDfp_0063M",
        "colab_type": "code",
        "colab": {}
      },
      "source": [
        "download_image(url=img_urls[0],file_path=\"images/1.jpg\")"
      ],
      "execution_count": 0,
      "outputs": []
    },
    {
      "cell_type": "code",
      "metadata": {
        "id": "3iP8QEAf1Tb9",
        "colab_type": "code",
        "colab": {
          "base_uri": "https://localhost:8080/",
          "height": 33
        },
        "outputId": "69970468-5e5d-4d79-a83a-d4a748131da4"
      },
      "source": [
        "!ls images"
      ],
      "execution_count": 44,
      "outputs": [
        {
          "output_type": "stream",
          "text": [
            "1.jpg\n"
          ],
          "name": "stdout"
        }
      ]
    },
    {
      "cell_type": "code",
      "metadata": {
        "id": "dOurlG8Y1W5D",
        "colab_type": "code",
        "colab": {
          "base_uri": "https://localhost:8080/",
          "height": 33
        },
        "outputId": "16731ca4-74f5-4c0c-9f76-a8f8e02923f3"
      },
      "source": [
        "from google.colab import drive\n",
        "drive.mount('./gdrive')"
      ],
      "execution_count": 45,
      "outputs": [
        {
          "output_type": "stream",
          "text": [
            "Drive already mounted at ./gdrive; to attempt to forcibly remount, call drive.mount(\"./gdrive\", force_remount=True).\n"
          ],
          "name": "stdout"
        }
      ]
    },
    {
      "cell_type": "code",
      "metadata": {
        "id": "fF2KcN6S1xtg",
        "colab_type": "code",
        "colab": {}
      },
      "source": [
        "def save_file(file_path):\n",
        "  upload_file = drive.CreateFile()\n",
        "  upload_file.SetContentFile(file_path)\n",
        "  upload_file.Upload()"
      ],
      "execution_count": 0,
      "outputs": []
    },
    {
      "cell_type": "code",
      "metadata": {
        "id": "qRGmSfei2gnn",
        "colab_type": "code",
        "colab": {
          "base_uri": "https://localhost:8080/",
          "height": 683
        },
        "outputId": "f6e94889-93a3-46aa-a2ca-233c1a0e9ded"
      },
      "source": [
        "import os\n",
        "google_drive_save_dir = \"./gdrive/My Drive/Colab Notebooks/つくプロ\"\n",
        "\n",
        "for index,url in enumerate(img_urls):\n",
        "  file_name = \"{}.jpg\".format(index)\n",
        "\n",
        "  print(file_name)\n",
        "  image_path = os.path.join(google_drive_save_dir,file_name)\n",
        "  print(image_path)\n",
        "\n",
        "  download_image(url=url,file_path=image_path)"
      ],
      "execution_count": 53,
      "outputs": [
        {
          "output_type": "stream",
          "text": [
            "0.jpg\n",
            "./gdrive/My Drive/Colab Notebooks/つくプロ/0.jpg\n",
            "1.jpg\n",
            "./gdrive/My Drive/Colab Notebooks/つくプロ/1.jpg\n",
            "2.jpg\n",
            "./gdrive/My Drive/Colab Notebooks/つくプロ/2.jpg\n",
            "3.jpg\n",
            "./gdrive/My Drive/Colab Notebooks/つくプロ/3.jpg\n",
            "4.jpg\n",
            "./gdrive/My Drive/Colab Notebooks/つくプロ/4.jpg\n",
            "5.jpg\n",
            "./gdrive/My Drive/Colab Notebooks/つくプロ/5.jpg\n",
            "6.jpg\n",
            "./gdrive/My Drive/Colab Notebooks/つくプロ/6.jpg\n",
            "7.jpg\n",
            "./gdrive/My Drive/Colab Notebooks/つくプロ/7.jpg\n",
            "8.jpg\n",
            "./gdrive/My Drive/Colab Notebooks/つくプロ/8.jpg\n",
            "9.jpg\n",
            "./gdrive/My Drive/Colab Notebooks/つくプロ/9.jpg\n",
            "10.jpg\n",
            "./gdrive/My Drive/Colab Notebooks/つくプロ/10.jpg\n",
            "11.jpg\n",
            "./gdrive/My Drive/Colab Notebooks/つくプロ/11.jpg\n",
            "12.jpg\n",
            "./gdrive/My Drive/Colab Notebooks/つくプロ/12.jpg\n",
            "13.jpg\n",
            "./gdrive/My Drive/Colab Notebooks/つくプロ/13.jpg\n",
            "14.jpg\n",
            "./gdrive/My Drive/Colab Notebooks/つくプロ/14.jpg\n",
            "15.jpg\n",
            "./gdrive/My Drive/Colab Notebooks/つくプロ/15.jpg\n",
            "16.jpg\n",
            "./gdrive/My Drive/Colab Notebooks/つくプロ/16.jpg\n",
            "17.jpg\n",
            "./gdrive/My Drive/Colab Notebooks/つくプロ/17.jpg\n",
            "18.jpg\n",
            "./gdrive/My Drive/Colab Notebooks/つくプロ/18.jpg\n",
            "19.jpg\n",
            "./gdrive/My Drive/Colab Notebooks/つくプロ/19.jpg\n"
          ],
          "name": "stdout"
        }
      ]
    },
    {
      "cell_type": "code",
      "metadata": {
        "id": "oFstpKiI5T30",
        "colab_type": "code",
        "colab": {}
      },
      "source": [
        ""
      ],
      "execution_count": 0,
      "outputs": []
    },
    {
      "cell_type": "code",
      "metadata": {
        "id": "TX0ovBBC54QH",
        "colab_type": "code",
        "colab": {}
      },
      "source": [
        ""
      ],
      "execution_count": 0,
      "outputs": []
    }
  ]
}