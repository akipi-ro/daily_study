{
  "nbformat": 4,
  "nbformat_minor": 0,
  "metadata": {
    "colab": {
      "name": "script9.ipynb のコピー",
      "provenance": [],
      "toc_visible": true,
      "include_colab_link": true
    },
    "kernelspec": {
      "name": "ir",
      "display_name": "R"
    }
  },
  "cells": [
    {
      "cell_type": "markdown",
      "metadata": {
        "id": "view-in-github",
        "colab_type": "text"
      },
      "source": [
        "<a href=\"https://colab.research.google.com/github/akipi-ro/daily_study/blob/master/script9_ipynb_%E3%81%AE%E3%82%B3%E3%83%94%E3%83%BC.ipynb\" target=\"_parent\"><img src=\"https://colab.research.google.com/assets/colab-badge.svg\" alt=\"Open In Colab\"/></a>"
      ]
    },
    {
      "cell_type": "code",
      "metadata": {
        "id": "mnclTyesUZUC",
        "colab_type": "code",
        "colab": {}
      },
      "source": [
        "#rstanがインストールされていないならインストールする\n",
        "x<-installed.packages()\n",
        "if(any(x[,1]== 'rstan') == FALSE){\n",
        "    system(\"add-apt-repository -y ppa:marutter/rrutter3.5\")\n",
        "    system(\"add-apt-repository -y ppa:marutter/c2d4u3.5\") \n",
        "    system(\"apt-get update\")\n",
        "    system(\"apt install -y r-cran-rstan\")\n",
        "}"
      ],
      "execution_count": null,
      "outputs": []
    },
    {
      "cell_type": "markdown",
      "metadata": {
        "id": "lH3fRwKtaOUj",
        "colab_type": "text"
      },
      "source": [
        "#\n",
        "\n",
        "1.   表3.2に登場する標本平均、標本標準偏差、標本分散、標本四 分位点、\n",
        "2群の異同"
      ]
    },
    {
      "cell_type": "markdown",
      "metadata": {
        "id": "yFMhiOQZhAU-",
        "colab_type": "text"
      },
      "source": [
        "*   ガソリン車\n",
        "\n",
        "> 平均：2518\n",
        "\n",
        "> 標準偏差：501.00024920775\n",
        "\n",
        "> 標本分散：249644\n",
        "\n",
        "*   ディーゼル車\n",
        "\n",
        "> 平均：2899\n",
        "\n",
        "> 標準偏差：585\n",
        "\n",
        "> 標本分散：325543\n",
        "\n",
        "\n",
        "\n",
        "\n",
        "\n",
        "\n",
        "\n"
      ]
    },
    {
      "cell_type": "code",
      "metadata": {
        "id": "mpvhCfYpYtb1",
        "colab_type": "code",
        "colab": {
          "base_uri": "https://localhost:8080/",
          "height": 794
        },
        "outputId": "4d8f7e7f-7921-4885-e8ee-85e6d2d84150"
      },
      "source": [
        "library(rstan)\n",
        "# Automobile Datasetより\n",
        "auto <- read.csv(\"Automobile.csv\") # データフレームが得られる \n",
        "weight.gas <- auto[auto$fuel.type==\"gas\",]$curb.weight # ガソリン車の行から車両重量を取り出す\n",
        "weight.diesel <- auto[auto$fuel.type==\"diesel\",]$curb.weight # ディーゼル車の行から車両重量を取り出す\n",
        "# 箱ひげ図を描く\n",
        "\n",
        "\n",
        "summary(weight.gas)\n",
        "summary(weight.diesel)\n",
        "\n",
        "\n",
        "mean(weight.gas)\n",
        "mean(weight.diesel)\n",
        "sd(weight.gas)#標準偏差\n",
        "sd(weight.diesel)\n",
        "var(weight.gas)#分散\n",
        "var(weight.diesel)\n",
        "\n",
        "boxplot(auto$curb.weight ~ auto$fuel.type)\n",
        "\n",
        "\n",
        "\n"
      ],
      "execution_count": null,
      "outputs": [
        {
          "output_type": "stream",
          "text": [
            "Loading required package: StanHeaders\n",
            "\n",
            "Loading required package: ggplot2\n",
            "\n",
            "rstan (Version 2.19.3, GitRev: 2e1f913d3ca3)\n",
            "\n",
            "For execution on a local, multicore CPU with excess RAM we recommend calling\n",
            "options(mc.cores = parallel::detectCores()).\n",
            "To avoid recompilation of unchanged Stan programs, we recommend calling\n",
            "rstan_options(auto_write = TRUE)\n",
            "\n"
          ],
          "name": "stderr"
        },
        {
          "output_type": "display_data",
          "data": {
            "text/plain": [
              "   Min. 1st Qu.  Median    Mean 3rd Qu.    Max. \n",
              "   1488    2128    2405    2518    2847    4066 "
            ]
          },
          "metadata": {
            "tags": []
          }
        },
        {
          "output_type": "display_data",
          "data": {
            "text/plain": [
              "   Min. 1st Qu.  Median    Mean 3rd Qu.    Max. \n",
              "   2017    2308    2948    2899    3444    3770 "
            ]
          },
          "metadata": {
            "tags": []
          }
        },
        {
          "output_type": "display_data",
          "data": {
            "text/plain": [
              "[1] 2518.459"
            ],
            "text/latex": "2518.45945945946",
            "text/markdown": "2518.45945945946",
            "text/html": [
              "2518.45945945946"
            ]
          },
          "metadata": {
            "tags": []
          }
        },
        {
          "output_type": "display_data",
          "data": {
            "text/plain": [
              "[1] 2898.8"
            ],
            "text/latex": "2898.8",
            "text/markdown": "2898.8",
            "text/html": [
              "2898.8"
            ]
          },
          "metadata": {
            "tags": []
          }
        },
        {
          "output_type": "display_data",
          "data": {
            "text/plain": [
              "[1] 501.0002"
            ],
            "text/latex": "501.00024920775",
            "text/markdown": "501.00024920775",
            "text/html": [
              "501.00024920775"
            ]
          },
          "metadata": {
            "tags": []
          }
        },
        {
          "output_type": "display_data",
          "data": {
            "text/plain": [
              "[1] 585.386"
            ],
            "text/latex": "585.386026481671",
            "text/markdown": "585.386026481671",
            "text/html": [
              "585.386026481671"
            ]
          },
          "metadata": {
            "tags": []
          }
        },
        {
          "output_type": "display_data",
          "data": {
            "text/plain": [
              "[1] 251001.2"
            ],
            "text/latex": "251001.249706228",
            "text/markdown": "251001.249706228",
            "text/html": [
              "251001.249706228"
            ]
          },
          "metadata": {
            "tags": []
          }
        },
        {
          "output_type": "display_data",
          "data": {
            "text/plain": [
              "[1] 342676.8"
            ],
            "text/latex": "342676.8",
            "text/markdown": "342676.8",
            "text/html": [
              "342676.8"
            ]
          },
          "metadata": {
            "tags": []
          }
        },
        {
          "output_type": "display_data",
          "data": {
            "image/png": "[encoded data removed]",
            "text/plain": [
              "plot without title"
            ]
          },
          "metadata": {
            "tags": [],
            "image/png": {
              "width": 420,
              "height": 420
            },
            "text/plain": {
              "width": 420,
              "height": 420
            }
          }
        }
      ]
    },
    {
      "cell_type": "markdown",
      "metadata": {
        "id": "gOujGGyhfScP",
        "colab_type": "text"
      },
      "source": [
        ""
      ]
    },
    {
      "cell_type": "code",
      "metadata": {
        "id": "lrno4DZLqhXe",
        "colab_type": "code",
        "colab": {
          "base_uri": "https://localhost:8080/",
          "height": 51
        },
        "outputId": "fc5c2e61-0507-4750-a26a-ac7164325e6a"
      },
      "source": [
        "max(weight.diesel)\n",
        "max(weight.gas)"
      ],
      "execution_count": null,
      "outputs": [
        {
          "output_type": "display_data",
          "data": {
            "text/plain": [
              "[1] 3770"
            ],
            "text/latex": "3770",
            "text/markdown": "3770",
            "text/html": [
              "3770"
            ]
          },
          "metadata": {
            "tags": []
          }
        },
        {
          "output_type": "display_data",
          "data": {
            "text/plain": [
              "[1] 4066"
            ],
            "text/latex": "4066",
            "text/markdown": "4066",
            "text/html": [
              "4066"
            ]
          },
          "metadata": {
            "tags": []
          }
        }
      ]
    },
    {
      "cell_type": "markdown",
      "metadata": {
        "id": "6qIVREbS7S-P",
        "colab_type": "text"
      },
      "source": [
        "#stanコード"
      ]
    },
    {
      "cell_type": "code",
      "metadata": {
        "id": "1f73tqlOlXXF",
        "colab_type": "code",
        "colab": {}
      },
      "source": [
        "stancode2 <-'data {\n",
        "  int n1; // 第1群のデータ数\n",
        "  int n2; // 第2群のデータ数\n",
        "  real x1[n1]; // 第1群のデータ\n",
        "  real x2[n2]; // 第2群のデータ\n",
        "}\n",
        "\n",
        "parameters {\n",
        "  real mu1; // 第1群の平均μ1\n",
        "  real mu2; // 第2群の平均μ2\n",
        "  real<lower=0> sigma; // 第1群、第2群の標準偏差σ\n",
        "}\n",
        "\n",
        "model {\n",
        "  mu1 ~ uniform(0,5000);\n",
        "  mu2 ~ uniform(0,5000);\n",
        "  sigma ~ uniform(0,4000);\n",
        "\n",
        "  x1 ~ normal(mu1,sigma);\n",
        "  x2 ~ normal(mu2,sigma);\n",
        "}\n",
        "\n",
        "generated quantities {\n",
        "  real mu1_minus_mu2;\n",
        "  real u_mu1_gt_mu2;\n",
        "  real u_mu1_minus_mu2_gt_5;\n",
        "  real delta;\n",
        "  real u_delta_gt_03;\n",
        "  real U3;#\n",
        "  real u_U3_gt_06;\n",
        "  real pi_d;\n",
        "  real u_pi_d_gt_08;\n",
        "\n",
        "  mu1_minus_mu2 = mu1 - mu2; // μ1-μ2 式(3.11)\n",
        "  u_mu1_gt_mu2 = mu1 - mu2 > 0; // u_{μ1>μ2} 式(3.12)\n",
        "  u_mu1_minus_mu2_gt_5 = mu1 - mu2 > 500; // u_{μ1-μ2>c} 式(3.13)\n",
        "  delta = (mu1 - mu2) / sigma; // δ 式(3.15)\n",
        "  u_delta_gt_03 = delta > 0.3; // u_{δ>c} 式(3.16)\n",
        "  U3 = normal_cdf(mu1, mu2, sigma); // U3 式(3.17)\n",
        "  u_U3_gt_06 = U3 > 0.6; // u_{U3>c} 式(3.21)\n",
        "  pi_d = normal_cdf(delta / sqrt(2), 0, 1); // πd 式(3.24)\n",
        "  u_pi_d_gt_08 = pi_d > 0.8; // u_{πd>c} 式(3.26)\n",
        "}\n",
        "'"
      ],
      "execution_count": null,
      "outputs": []
    },
    {
      "cell_type": "code",
      "metadata": {
        "id": "AA4aQy2wl6tQ",
        "colab_type": "code",
        "colab": {
          "base_uri": "https://localhost:8080/",
          "height": 1000
        },
        "outputId": "f15cf631-46a2-413b-90c3-7cf1ed40d794"
      },
      "source": [
        "fit <- stan(model_code = stancode2,\n",
        "            data=list(n1=length(weight.diesel),\n",
        "                      n2=length(weight.gas),\n",
        "                      x1=weight.diesel,\n",
        "                      x2=weight.gas),\n",
        "            iter=21000,warmup=1000,chains=5)"
      ],
      "execution_count": null,
      "outputs": [
        {
          "output_type": "stream",
          "text": [
            "DIAGNOSTIC(S) FROM PARSER:\n",
            "Info: Comments beginning with # are deprecated.  Please use // in place of # for line comments.\n",
            "\n",
            "\n",
            "SAMPLING FOR MODEL '6d63657e83aa186f745dfb1ace57574d' NOW (CHAIN 1).\n",
            "Chain 1: \n",
            "Chain 1: Gradient evaluation took 9e-06 seconds\n",
            "Chain 1: 1000 transitions using 10 leapfrog steps per transition would take 0.09 seconds.\n",
            "Chain 1: Adjust your expectations accordingly!\n",
            "Chain 1: \n",
            "Chain 1: \n",
            "Chain 1: Iteration:     1 / 21000 [  0%]  (Warmup)\n",
            "Chain 1: Iteration:  1001 / 21000 [  4%]  (Sampling)\n",
            "Chain 1: Iteration:  3100 / 21000 [ 14%]  (Sampling)\n",
            "Chain 1: Iteration:  5200 / 21000 [ 24%]  (Sampling)\n",
            "Chain 1: Iteration:  7300 / 21000 [ 34%]  (Sampling)\n",
            "Chain 1: Iteration:  9400 / 21000 [ 44%]  (Sampling)\n",
            "Chain 1: Iteration: 11500 / 21000 [ 54%]  (Sampling)\n",
            "Chain 1: Iteration: 13600 / 21000 [ 64%]  (Sampling)\n",
            "Chain 1: Iteration: 15700 / 21000 [ 74%]  (Sampling)\n",
            "Chain 1: Iteration: 17800 / 21000 [ 84%]  (Sampling)\n",
            "Chain 1: Iteration: 19900 / 21000 [ 94%]  (Sampling)\n",
            "Chain 1: Iteration: 21000 / 21000 [100%]  (Sampling)\n",
            "Chain 1: \n",
            "Chain 1:  Elapsed Time: 0.104049 seconds (Warm-up)\n",
            "Chain 1:                0.328471 seconds (Sampling)\n",
            "Chain 1:                0.43252 seconds (Total)\n",
            "Chain 1: \n",
            "\n",
            "SAMPLING FOR MODEL '6d63657e83aa186f745dfb1ace57574d' NOW (CHAIN 2).\n",
            "Chain 2: Rejecting initial value:\n",
            "Chain 2:   Log probability evaluates to log(0), i.e. negative infinity.\n",
            "Chain 2:   Stan can't start sampling from this initial value.\n",
            "Chain 2: Rejecting initial value:\n",
            "Chain 2:   Log probability evaluates to log(0), i.e. negative infinity.\n",
            "Chain 2:   Stan can't start sampling from this initial value.\n",
            "Chain 2: Rejecting initial value:\n",
            "Chain 2:   Log probability evaluates to log(0), i.e. negative infinity.\n",
            "Chain 2:   Stan can't start sampling from this initial value.\n",
            "Chain 2: Rejecting initial value:\n",
            "Chain 2:   Log probability evaluates to log(0), i.e. negative infinity.\n",
            "Chain 2:   Stan can't start sampling from this initial value.\n",
            "Chain 2: Rejecting initial value:\n",
            "Chain 2:   Log probability evaluates to log(0), i.e. negative infinity.\n",
            "Chain 2:   Stan can't start sampling from this initial value.\n",
            "Chain 2: Rejecting initial value:\n",
            "Chain 2:   Log probability evaluates to log(0), i.e. negative infinity.\n",
            "Chain 2:   Stan can't start sampling from this initial value.\n",
            "Chain 2: \n",
            "Chain 2: Gradient evaluation took 5e-06 seconds\n",
            "Chain 2: 1000 transitions using 10 leapfrog steps per transition would take 0.05 seconds.\n",
            "Chain 2: Adjust your expectations accordingly!\n",
            "Chain 2: \n",
            "Chain 2: \n",
            "Chain 2: Iteration:     1 / 21000 [  0%]  (Warmup)\n",
            "Chain 2: Iteration:  1001 / 21000 [  4%]  (Sampling)\n",
            "Chain 2: Iteration:  3100 / 21000 [ 14%]  (Sampling)\n",
            "Chain 2: Iteration:  5200 / 21000 [ 24%]  (Sampling)\n",
            "Chain 2: Iteration:  7300 / 21000 [ 34%]  (Sampling)\n",
            "Chain 2: Iteration:  9400 / 21000 [ 44%]  (Sampling)\n",
            "Chain 2: Iteration: 11500 / 21000 [ 54%]  (Sampling)\n",
            "Chain 2: Iteration: 13600 / 21000 [ 64%]  (Sampling)\n",
            "Chain 2: Iteration: 15700 / 21000 [ 74%]  (Sampling)\n",
            "Chain 2: Iteration: 17800 / 21000 [ 84%]  (Sampling)\n",
            "Chain 2: Iteration: 19900 / 21000 [ 94%]  (Sampling)\n",
            "Chain 2: Iteration: 21000 / 21000 [100%]  (Sampling)\n",
            "Chain 2: \n",
            "Chain 2:  Elapsed Time: 0.102788 seconds (Warm-up)\n",
            "Chain 2:                0.319437 seconds (Sampling)\n",
            "Chain 2:                0.422225 seconds (Total)\n",
            "Chain 2: \n",
            "\n",
            "SAMPLING FOR MODEL '6d63657e83aa186f745dfb1ace57574d' NOW (CHAIN 3).\n",
            "Chain 3: Rejecting initial value:\n",
            "Chain 3:   Log probability evaluates to log(0), i.e. negative infinity.\n",
            "Chain 3:   Stan can't start sampling from this initial value.\n",
            "Chain 3: Rejecting initial value:\n",
            "Chain 3:   Log probability evaluates to log(0), i.e. negative infinity.\n",
            "Chain 3:   Stan can't start sampling from this initial value.\n",
            "Chain 3: \n",
            "Chain 3: Gradient evaluation took 6e-06 seconds\n",
            "Chain 3: 1000 transitions using 10 leapfrog steps per transition would take 0.06 seconds.\n",
            "Chain 3: Adjust your expectations accordingly!\n",
            "Chain 3: \n",
            "Chain 3: \n",
            "Chain 3: Iteration:     1 / 21000 [  0%]  (Warmup)\n",
            "Chain 3: Iteration:  1001 / 21000 [  4%]  (Sampling)\n",
            "Chain 3: Iteration:  3100 / 21000 [ 14%]  (Sampling)\n",
            "Chain 3: Iteration:  5200 / 21000 [ 24%]  (Sampling)\n",
            "Chain 3: Iteration:  7300 / 21000 [ 34%]  (Sampling)\n",
            "Chain 3: Iteration:  9400 / 21000 [ 44%]  (Sampling)\n",
            "Chain 3: Iteration: 11500 / 21000 [ 54%]  (Sampling)\n",
            "Chain 3: Iteration: 13600 / 21000 [ 64%]  (Sampling)\n",
            "Chain 3: Iteration: 15700 / 21000 [ 74%]  (Sampling)\n",
            "Chain 3: Iteration: 17800 / 21000 [ 84%]  (Sampling)\n",
            "Chain 3: Iteration: 19900 / 21000 [ 94%]  (Sampling)\n",
            "Chain 3: Iteration: 21000 / 21000 [100%]  (Sampling)\n",
            "Chain 3: \n",
            "Chain 3:  Elapsed Time: 0.117631 seconds (Warm-up)\n",
            "Chain 3:                0.306533 seconds (Sampling)\n",
            "Chain 3:                0.424164 seconds (Total)\n",
            "Chain 3: \n",
            "\n",
            "SAMPLING FOR MODEL '6d63657e83aa186f745dfb1ace57574d' NOW (CHAIN 4).\n",
            "Chain 4: Rejecting initial value:\n",
            "Chain 4:   Log probability evaluates to log(0), i.e. negative infinity.\n",
            "Chain 4:   Stan can't start sampling from this initial value.\n",
            "Chain 4: Rejecting initial value:\n",
            "Chain 4:   Log probability evaluates to log(0), i.e. negative infinity.\n",
            "Chain 4:   Stan can't start sampling from this initial value.\n",
            "Chain 4: Rejecting initial value:\n",
            "Chain 4:   Log probability evaluates to log(0), i.e. negative infinity.\n",
            "Chain 4:   Stan can't start sampling from this initial value.\n",
            "Chain 4: \n",
            "Chain 4: Gradient evaluation took 5e-06 seconds\n",
            "Chain 4: 1000 transitions using 10 leapfrog steps per transition would take 0.05 seconds.\n",
            "Chain 4: Adjust your expectations accordingly!\n",
            "Chain 4: \n",
            "Chain 4: \n",
            "Chain 4: Iteration:     1 / 21000 [  0%]  (Warmup)\n",
            "Chain 4: Iteration:  1001 / 21000 [  4%]  (Sampling)\n",
            "Chain 4: Iteration:  3100 / 21000 [ 14%]  (Sampling)\n",
            "Chain 4: Iteration:  5200 / 21000 [ 24%]  (Sampling)\n",
            "Chain 4: Iteration:  7300 / 21000 [ 34%]  (Sampling)\n",
            "Chain 4: Iteration:  9400 / 21000 [ 44%]  (Sampling)\n",
            "Chain 4: Iteration: 11500 / 21000 [ 54%]  (Sampling)\n",
            "Chain 4: Iteration: 13600 / 21000 [ 64%]  (Sampling)\n",
            "Chain 4: Iteration: 15700 / 21000 [ 74%]  (Sampling)\n",
            "Chain 4: Iteration: 17800 / 21000 [ 84%]  (Sampling)\n",
            "Chain 4: Iteration: 19900 / 21000 [ 94%]  (Sampling)\n",
            "Chain 4: Iteration: 21000 / 21000 [100%]  (Sampling)\n",
            "Chain 4: \n",
            "Chain 4:  Elapsed Time: 0.127499 seconds (Warm-up)\n",
            "Chain 4:                0.384914 seconds (Sampling)\n",
            "Chain 4:                0.512413 seconds (Total)\n",
            "Chain 4: \n",
            "\n",
            "SAMPLING FOR MODEL '6d63657e83aa186f745dfb1ace57574d' NOW (CHAIN 5).\n",
            "Chain 5: Rejecting initial value:\n",
            "Chain 5:   Log probability evaluates to log(0), i.e. negative infinity.\n",
            "Chain 5:   Stan can't start sampling from this initial value.\n",
            "Chain 5: \n",
            "Chain 5: Gradient evaluation took 6e-06 seconds\n",
            "Chain 5: 1000 transitions using 10 leapfrog steps per transition would take 0.06 seconds.\n",
            "Chain 5: Adjust your expectations accordingly!\n",
            "Chain 5: \n",
            "Chain 5: \n",
            "Chain 5: Iteration:     1 / 21000 [  0%]  (Warmup)\n",
            "Chain 5: Iteration:  1001 / 21000 [  4%]  (Sampling)\n",
            "Chain 5: Iteration:  3100 / 21000 [ 14%]  (Sampling)\n",
            "Chain 5: Iteration:  5200 / 21000 [ 24%]  (Sampling)\n",
            "Chain 5: Iteration:  7300 / 21000 [ 34%]  (Sampling)\n",
            "Chain 5: Iteration:  9400 / 21000 [ 44%]  (Sampling)\n",
            "Chain 5: Iteration: 11500 / 21000 [ 54%]  (Sampling)\n",
            "Chain 5: Iteration: 13600 / 21000 [ 64%]  (Sampling)\n",
            "Chain 5: Iteration: 15700 / 21000 [ 74%]  (Sampling)\n",
            "Chain 5: Iteration: 17800 / 21000 [ 84%]  (Sampling)\n",
            "Chain 5: Iteration: 19900 / 21000 [ 94%]  (Sampling)\n",
            "Chain 5: Iteration: 21000 / 21000 [100%]  (Sampling)\n",
            "Chain 5: \n",
            "Chain 5:  Elapsed Time: 0.11395 seconds (Warm-up)\n",
            "Chain 5:                0.338191 seconds (Sampling)\n",
            "Chain 5:                0.452141 seconds (Total)\n",
            "Chain 5: \n"
          ],
          "name": "stdout"
        },
        {
          "output_type": "stream",
          "text": [
            "Warning message:\n",
            "“Tail Effective Samples Size (ESS) is too low, indicating posterior variances and tail quantiles may be unreliable.\n",
            "Running the chains for more iterations may help. See\n",
            "http://mc-stan.org/misc/warnings.html#tail-ess”\n"
          ],
          "name": "stderr"
        }
      ]
    },
    {
      "cell_type": "markdown",
      "metadata": {
        "id": "rhtnPAt0xRAQ",
        "colab_type": "text"
      },
      "source": [
        "\n",
        "\n",
        "ディーゼル車μ１に対するガソリン車μ２の分析\n",
        "---\n",
        "\n",
        "\n",
        "# *   母平均の差と95％信頼区間(mu1_minus_mu2)\n",
        "> ２母平均の差（EAP）は380であり、95％の確信で[143,618]143ポンド以上619ポンド未満\n",
        "# *   ３母平均の差は少なくともどれくらいか、多くともどれくらいか(mu1_minus_mu2)..5%点と９５％点を求める\n",
        "\n",
        "> ディーゼルとガソリンに対する重さの平均の差は少なくとも181ポンドで、多くとも579ポンドになる\n",
        "\n",
        "\n",
        "\n",
        "# *   ４ディーゼルとガソリンの平均の差が500ポンド違う確率は？(u_mu_1_mins_mu2_gt_5)\n",
        "\n",
        "\n",
        "\n",
        " > 0.16より１６％である\n",
        "\n",
        "\n",
        "# *   ５効果量（delta）のEAP,95％信頼区間\n",
        "\n",
        "> 効果量のEAPは０.744、95%の信頼区間で[0.275,1.212]\n",
        "\n",
        "\n",
        "# *   ６効果量が０.３以上（偏差値３）である確率は？（u_delta_gt_0.3）\n",
        "\n",
        "> 0.97で97%になる\n",
        "\n",
        "\n",
        "# *   ７非重複度　ディーゼルの平均がガソリンの平均のなん％点にあるか、信頼区間は？(U3)\n",
        "\n",
        "> 0.77より77％ぐらいにあって、信頼区間は[0.61,0.89]\n",
        "\n",
        "# *   8非重複度　ディーゼルの平均がガソリンの平均の60%点より大きい確率はどのくらいか(u_U3gt_06)\n",
        "\n",
        "> 98%である\n",
        "\n",
        "\n",
        "# *   ９優越率（無作為に選んだ方の群が、無作為に選んだもう一方の群の測定値を上回る確率）のEAP,95％信頼区間（pi_d）\n",
        "\n",
        "> 優越率のEAPは70％、95％信頼区間は[0.58,0.80]\n",
        "\n",
        "\n",
        "# *   10　優越率が80％超える確率はどれくらい？(u_pi_d_08)\n",
        "\n",
        "> 0.03より3％\n",
        "\n",
        "\n",
        "\n",
        "\n",
        "\n",
        "\n",
        "\n",
        "\n"
      ]
    },
    {
      "cell_type": "code",
      "metadata": {
        "id": "HU7Fu3LumMv3",
        "colab_type": "code",
        "colab": {
          "base_uri": "https://localhost:8080/",
          "height": 1000
        },
        "outputId": "3bdee947-3702-4eca-839d-3c1e5a5ae336"
      },
      "source": [
        "print(fit,probs=c(0.025,0.05,0.95,0.975))\n",
        "stan_hist(fit,pars=c(\"mu1\",\"mu2\",\"sigma\"))\n",
        "print(fit,probs=c(0.025,0.05,0.95,0.975),digits=3)"
      ],
      "execution_count": null,
      "outputs": [
        {
          "output_type": "stream",
          "text": [
            "Inference for Stan model: 6d63657e83aa186f745dfb1ace57574d.\n",
            "5 chains, each with iter=21000; warmup=1000; thin=1; \n",
            "post-warmup draws per chain=20000, total post-warmup draws=1e+05.\n",
            "\n",
            "                         mean se_mean     sd     2.5%       5%      95%\n",
            "mu1                   2898.74    0.36 115.22  2671.11  2708.49  3087.12\n",
            "mu2                   2518.48    0.12  37.64  2444.98  2456.97  2580.56\n",
            "sigma                  512.68    0.08  25.68   465.53   472.25   556.60\n",
            "mu1_minus_mu2          380.26    0.38 121.09   141.03   180.44   578.48\n",
            "u_mu1_gt_mu2             1.00    0.00   0.03     1.00     1.00     1.00\n",
            "u_mu1_minus_mu2_gt_5     0.16    0.00   0.37     0.00     0.00     1.00\n",
            "delta                    0.74    0.00   0.24     0.27     0.35     1.13\n",
            "u_delta_gt_03            0.97    0.00   0.18     0.00     1.00     1.00\n",
            "U3                       0.77    0.00   0.07     0.61     0.64     0.87\n",
            "u_U3_gt_06               0.98    0.00   0.14     1.00     1.00     1.00\n",
            "pi_d                     0.70    0.00   0.06     0.58     0.60     0.79\n",
            "u_pi_d_gt_08             0.03    0.00   0.17     0.00     0.00     0.00\n",
            "lp__                 -1374.63    0.01   1.23 -1377.82 -1377.04 -1373.29\n",
            "                        97.5%  n_eff Rhat\n",
            "mu1                   3123.65 102874    1\n",
            "mu2                   2592.72 100025    1\n",
            "sigma                  565.85  95811    1\n",
            "mu1_minus_mu2          615.78 102261    1\n",
            "u_mu1_gt_mu2             1.00  74137    1\n",
            "u_mu1_minus_mu2_gt_5     1.00  81073    1\n",
            "delta                    1.21 102972    1\n",
            "u_delta_gt_03            1.00  75334    1\n",
            "U3                       0.89 100765    1\n",
            "u_U3_gt_06               1.00  75774    1\n",
            "pi_d                     0.80 102208    1\n",
            "u_pi_d_gt_08             1.00  75753    1\n",
            "lp__                 -1373.22  50430    1\n",
            "\n",
            "Samples were drawn using NUTS(diag_e) at Mon Jun 22 03:15:09 2020.\n",
            "For each parameter, n_eff is a crude measure of effective sample size,\n",
            "and Rhat is the potential scale reduction factor on split chains (at \n",
            "convergence, Rhat=1).\n"
          ],
          "name": "stdout"
        },
        {
          "output_type": "stream",
          "text": [
            "`stat_bin()` using `bins = 30`. Pick better value with `binwidth`.\n",
            "\n"
          ],
          "name": "stderr"
        },
        {
          "output_type": "stream",
          "text": [
            "Inference for Stan model: 6d63657e83aa186f745dfb1ace57574d.\n",
            "5 chains, each with iter=21000; warmup=1000; thin=1; \n",
            "post-warmup draws per chain=20000, total post-warmup draws=1e+05.\n",
            "\n",
            "                          mean se_mean      sd      2.5%        5%       95%\n",
            "mu1                   2898.737   0.359 115.215  2671.107  2708.488  3087.119\n",
            "mu2                   2518.475   0.119  37.640  2444.979  2456.974  2580.556\n",
            "sigma                  512.677   0.083  25.680   465.526   472.247   556.598\n",
            "mu1_minus_mu2          380.262   0.379 121.091   141.032   180.439   578.476\n",
            "u_mu1_gt_mu2             0.999   0.000   0.033     1.000     1.000     1.000\n",
            "u_mu1_minus_mu2_gt_5     0.161   0.001   0.367     0.000     0.000     1.000\n",
            "delta                    0.744   0.001   0.239     0.273     0.349     1.134\n",
            "u_delta_gt_03            0.968   0.001   0.177     0.000     1.000     1.000\n",
            "U3                       0.765   0.000   0.072     0.608     0.637     0.872\n",
            "u_U3_gt_06               0.980   0.001   0.141     1.000     1.000     1.000\n",
            "pi_d                     0.698   0.000   0.058     0.577     0.598     0.789\n",
            "u_pi_d_gt_08             0.030   0.001   0.170     0.000     0.000     0.000\n",
            "lp__                 -1374.628   0.005   1.232 -1377.816 -1377.044 -1373.293\n",
            "                         97.5%  n_eff Rhat\n",
            "mu1                   3123.653 102874    1\n",
            "mu2                   2592.723 100025    1\n",
            "sigma                  565.854  95811    1\n",
            "mu1_minus_mu2          615.784 102261    1\n",
            "u_mu1_gt_mu2             1.000  74137    1\n",
            "u_mu1_minus_mu2_gt_5     1.000  81073    1\n",
            "delta                    1.209 102972    1\n",
            "u_delta_gt_03            1.000  75334    1\n",
            "U3                       0.887 100765    1\n",
            "u_U3_gt_06               1.000  75774    1\n",
            "pi_d                     0.804 102208    1\n",
            "u_pi_d_gt_08             1.000  75753    1\n",
            "lp__                 -1373.223  50430    1\n",
            "\n",
            "Samples were drawn using NUTS(diag_e) at Mon Jun 22 03:15:09 2020.\n",
            "For each parameter, n_eff is a crude measure of effective sample size,\n",
            "and Rhat is the potential scale reduction factor on split chains (at \n",
            "convergence, Rhat=1).\n"
          ],
          "name": "stdout"
        },
        {
          "output_type": "display_data",
          "data": {
            "image/png": "[encoded data removed]",
            "text/plain": [
              "plot without title"
            ]
          },
          "metadata": {
            "tags": [],
            "image/png": {
              "width": 420,
              "height": 420
            },
            "text/plain": {
              "width": 420,
              "height": 420
            }
          }
        }
      ]
    },
    {
      "cell_type": "markdown",
      "metadata": {
        "id": "cgHru5ceo6M9",
        "colab_type": "text"
      },
      "source": [
        ""
      ]
    },
    {
      "cell_type": "code",
      "metadata": {
        "id": "HMPf-dNNeI7I",
        "colab_type": "code",
        "colab": {
          "base_uri": "https://localhost:8080/",
          "height": 385
        },
        "outputId": "34fecaa6-fc21-4f35-c8bc-8730ce928c71"
      },
      "source": [
        "\n",
        "fit <- stan(\"2groups-indep.stan\",\n",
        "            data=list(n1=length(weight.diesel),\n",
        "                      n2=length(weight.gas),\n",
        "                      x1=weight.diesel,\n",
        "                      x2=weight.gas),\n",
        "            iter=21000,warmup=1000,chains=5)\n",
        "print(fit,probs=c(0.025,0.05,0.95,0.975))\n",
        "stan_hist(fit,pars=c(\"mu1\",\"mu2\",\"sigma\"))\n",
        "print(fit,probs=c(0.025,0.05,0.95,0.975),digits=3)"
      ],
      "execution_count": null,
      "outputs": [
        {
          "output_type": "stream",
          "text": [
            "Warning message in normalizePath(file):\n",
            "“path[1]=\"2groups-indep.stan\": No such file or directory”\n",
            "Warning message in file(fname, \"rt\"):\n",
            "“cannot open file '2groups-indep.stan': No such file or directory”\n"
          ],
          "name": "stderr"
        },
        {
          "output_type": "stream",
          "text": [
            "Error in file(fname, \"rt\") : cannot open the connection\n"
          ],
          "name": "stdout"
        },
        {
          "output_type": "error",
          "ename": "ERROR",
          "evalue": "ignored",
          "traceback": [
            "Error in get_model_strcode(file, model_code): cannot open model file \"2groups-indep.stan\"\nTraceback:\n",
            "1. stan(\"2groups-indep.stan\", data = list(n1 = length(weight.diesel), \n .     n2 = length(weight.gas), x1 = weight.diesel, x2 = weight.gas), \n .     iter = 21000, warmup = 1000, chains = 5)",
            "2. stan_model(file, model_name = model_name, model_code = model_code, \n .     stanc_ret = NULL, boost_lib = boost_lib, eigen_lib = eigen_lib, \n .     save_dso = save_dso, verbose = verbose)",
            "3. stanc(file = file, model_code = model_code, model_name = model_name, \n .     verbose = verbose, obfuscate_model_name = obfuscate_model_name, \n .     allow_undefined = allow_undefined, isystem = isystem)",
            "4. get_model_strcode(file, model_code)",
            "5. stop(paste(\"cannot open model file \\\"\", fname, \"\\\"\", sep = \"\"))"
          ]
        }
      ]
    }
  ]
}
